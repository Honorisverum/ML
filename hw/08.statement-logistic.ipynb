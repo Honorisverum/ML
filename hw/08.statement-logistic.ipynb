{
 "cells": [
  {
   "cell_type": "code",
   "execution_count": 16,
   "metadata": {},
   "outputs": [],
   "source": [
    "import pandas as pd\n",
    "import numpy as np\n",
    "from sklearn.metrics import roc_auc_score\n",
    "import math"
   ]
  },
  {
   "cell_type": "markdown",
   "metadata": {},
   "source": [
    "1) Загрузите данные из файла data-logistic.csv. Это двумерная выборка, целевая переменная на которой принимает значения -1 или 1."
   ]
  },
  {
   "cell_type": "code",
   "execution_count": 17,
   "metadata": {},
   "outputs": [],
   "source": [
    "data = pd.read_csv('csv_dataframes/data-logistic.csv',header = None)\n",
    "X = data[[1,2]]\n",
    "y = data[0]"
   ]
  },
  {
   "cell_type": "markdown",
   "metadata": {},
   "source": [
    "2) Убедитесь, что выше выписаны правильные формулы для градиентного спуска. Обратите внимание, что мы используем полноценный градиентный спуск, а не его стохастический вариант!\n",
    "\n",
    "3) Реализуйте градиентный спуск для обычной и L2-регуляризованной (с коэффициентом регуляризации 10) логистической регрессии. Используйте длину шага k=0.1. В качестве начального приближения используйте вектор (0, 0).\n",
    "\n",
    "4) Запустите градиентный спуск и доведите до сходимости (евклидово расстояние между векторами весов на соседних итерациях должно быть не больше 1e-5). Рекомендуется ограничить сверху число итераций десятью тысячами."
   ]
  },
  {
   "cell_type": "code",
   "execution_count": 31,
   "metadata": {},
   "outputs": [
    {
     "name": "stdout",
     "output_type": "stream",
     "text": [
      "0.2878116204717764 0.09198330215925439\n",
      "0.028558754546234223 0.02478013724973556\n"
     ]
    }
   ],
   "source": [
    "#step_len ~ k\n",
    "#reg_coef ~ C\n",
    "\n",
    "def fw1(w1, w2, y, X, step_len, reg_coef):\n",
    "    l = len(y)\n",
    "    S = 0\n",
    "    for i in range(0, l):\n",
    "        S += y[i] * X[1][i] * (1.0 - 1.0 / (1.0 + math.exp(-y[i] * (w1*X[1][i] + w2*X[2][i]))))\n",
    "\n",
    "    return w1 + ((step_len / l) * S) - step_len * reg_coef * w1\n",
    "\n",
    "def fw2(w1, w2, y, X, step_len, reg_coef):\n",
    "    l = len(y)\n",
    "    S = 0\n",
    "    for i in range(0, l):\n",
    "        S += y[i] * X[2][i] * (1.0 - 1.0 / (1.0 + math.exp(-y[i] * (w1*X[1][i] + w2*X[2][i]))))\n",
    "\n",
    "    return w2 + ((step_len / l) * S) - step_len * reg_coef * w2\n",
    "\n",
    "def grad(y, X, step_len, err, i_max, reg_coef, w1=0.0, w2=0.0):\n",
    "    i = 0\n",
    "    i_max = i_max\n",
    "    err = err\n",
    "    step_len = step_len\n",
    "    reg_coef = reg_coef\n",
    "    w1_new, w2_new = w1, w2\n",
    "\n",
    "    while True:\n",
    "        i += 1\n",
    "        w1_new, w2_new = fw1(w1, w2, y, X, step_len, reg_coef), fw2(w1, w2, y, X, step_len, reg_coef)\n",
    "        e = math.sqrt((w1_new - w1) ** 2 + (w2_new - w2) ** 2)\n",
    "\n",
    "        if i >= i_max or e <= err:\n",
    "            break\n",
    "        else:\n",
    "            w1, w2 = w1_new, w2_new\n",
    "\n",
    "    return [w1_new, w2_new]\n",
    "\n",
    "w1, w2 = grad(y, X, step_len=0.1, err=1e-5, i_max=10000, reg_coef=0.0)\n",
    "reg_w1, reg_w2 = grad(y, X, step_len=0.1, err=1e-5, i_max=10000, reg_coef=10.0)\n",
    "print(w1,w2)\n",
    "print(reg_w1,reg_w2)"
   ]
  },
  {
   "cell_type": "markdown",
   "metadata": {},
   "source": [
    "5) Какое значение принимает AUC-ROC на обучении без регуляризации и при ее использовании? Эти величины будут ответом на задание. В качестве ответа приведите два числа через пробел. Обратите внимание, что на вход функции roc_auc_score нужно подавать оценки вероятностей, подсчитанные обученным алгоритмом. Для этого воспользуйтесь сигмоидной функцией: \n",
    "$$a(x) = \\frac{1}{1 + \\exp(-w_1 x_1 - w_2 x_2)} $$"
   ]
  },
  {
   "cell_type": "code",
   "execution_count": 32,
   "metadata": {},
   "outputs": [
    {
     "name": "stdout",
     "output_type": "stream",
     "text": [
      "0.927 0.936\n"
     ]
    }
   ],
   "source": [
    "def a(X, w1, w2):\n",
    "    return 1.0 / (1.0 + math.exp(-w1 * X[1] - w2 * X[2]))\n",
    "\n",
    "#axis = 1 - по строчкам, x - вектор\n",
    "y_score = X.apply(lambda x: a(x, w1, w2), axis=1)\n",
    "y_reg_score = X.apply(lambda x: a(x, reg_w1, reg_w2), axis=1)\n",
    "\n",
    "#это именно площадь под кривой auc\n",
    "auc = roc_auc_score(y, y_score) \n",
    "reg_auc = roc_auc_score(y, y_reg_score)\n",
    "print(round(auc,3),round(reg_auc,3))"
   ]
  },
  {
   "cell_type": "markdown",
   "metadata": {},
   "source": [
    "6) Попробуйте поменять длину шага. Будет ли сходиться алгоритм,\n",
    "если делать более длинные шаги? Как меняется число итераций\n",
    "при уменьшении длины шага?\n",
    "\n",
    "7) Попробуйте менять начальное приближение. Влияет ли оно на чтонибудь?"
   ]
  },
  {
   "cell_type": "code",
   "execution_count": null,
   "metadata": {},
   "outputs": [],
   "source": []
  }
 ],
 "metadata": {
  "kernelspec": {
   "display_name": "Python 3",
   "language": "python",
   "name": "python3"
  },
  "language_info": {
   "codemirror_mode": {
    "name": "ipython",
    "version": 3
   },
   "file_extension": ".py",
   "mimetype": "text/x-python",
   "name": "python",
   "nbconvert_exporter": "python",
   "pygments_lexer": "ipython3",
   "version": "3.6.4"
  }
 },
 "nbformat": 4,
 "nbformat_minor": 2
}
