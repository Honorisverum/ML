{
 "cells": [
  {
   "cell_type": "code",
   "execution_count": 92,
   "metadata": {},
   "outputs": [],
   "source": [
    "import pandas as pd\n",
    "import sklearn as sk\n",
    "from sklearn.metrics import accuracy_score #чтобы просто нписать scoring = 'accuracy'"
   ]
  },
  {
   "cell_type": "markdown",
   "metadata": {},
   "source": [
    "1) Загрузите выборку Wine по адресу https://archive.ics.uci.edu/ml/machinelearning-databases/wine/wine.data"
   ]
  },
  {
   "cell_type": "code",
   "execution_count": 93,
   "metadata": {},
   "outputs": [],
   "source": [
    "data = pd.read_csv('csv_dataframes/wine.data',header=None)"
   ]
  },
  {
   "cell_type": "markdown",
   "metadata": {},
   "source": [
    "2)Извлеките из данных признаки и классы. Класс записан в первом\n",
    "столбце (три варианта), признаки — в столбцах со второго по последний.\n",
    "Более подробно о сути признаков можно прочитать по адресу\n",
    "https://archive.ics.uci.edu/ml/datasets/Wine (см. также файл\n",
    "wine.names, приложенный к заданию)"
   ]
  },
  {
   "cell_type": "code",
   "execution_count": 94,
   "metadata": {},
   "outputs": [],
   "source": [
    "Y = data[0]\n",
    "X = data.iloc[:,1:]"
   ]
  },
  {
   "cell_type": "markdown",
   "metadata": {},
   "source": [
    "3) Оценку качества необходимо провести методом кросс-валидации по 5 блокам (5-fold). Создайте генератор разбиений, который перемешивает выборку перед формированием блоков (shuffle=True). Для воспроизводимости результата, создавайте генератор KFold с фиксированным параметром random_state=42. В качестве меры качества используйте долю верных ответов (accuracy)."
   ]
  },
  {
   "cell_type": "code",
   "execution_count": 95,
   "metadata": {},
   "outputs": [],
   "source": [
    "cross_val_fold = sk.model_selection.KFold(n_splits = 5, shuffle=True, random_state = 42)"
   ]
  },
  {
   "cell_type": "markdown",
   "metadata": {},
   "source": [
    "4)Найдите точность классификации на кросс-валидации для метода\n",
    "k ближайших соседей (sklearn.neighbors.KNeighborsClassifier), при\n",
    "k от 1 до 50. При каком k получилось оптимальное качество? Чему\n",
    "оно равно (число в интервале от 0 до 1)? Данные результаты и\n",
    "будут ответами на вопросы 1 и 2."
   ]
  },
  {
   "cell_type": "code",
   "execution_count": 96,
   "metadata": {},
   "outputs": [
    {
     "name": "stdout",
     "output_type": "stream",
     "text": [
      "1 0.73\n"
     ]
    }
   ],
   "source": [
    "scores = []\n",
    "\n",
    "#пробуем разное колличество соседей\n",
    "for k in range(1,51):\n",
    "    model = sk.neighbors.KNeighborsClassifier(n_neighbors = k)\n",
    "    #now_score - массив (array[...]) размером колличесвта блоков кросс-валидации\n",
    "    now_score = cross_val_score(model, X, Y, cv = cross_val_fold, scoring = 'accuracy')\n",
    "    scores.append(now_score)\n",
    "\n",
    "#делаем dataframe из оценок для кросс-валидации\n",
    "cross_val_data = pd.DataFrame(scores) #делаем dataframe из оценок для кросс-валидации\n",
    "\n",
    "#ascending - восходящая сортировка; axis=1 - среднее в строке\n",
    "class_accuracy = cross_val_data.mean(axis=1).sort_values(ascending = False)\n",
    "\n",
    "#index - массив индексов, он не от 0 до 49 поскольку произвели sort_values по accuracy, + 1 из-за 0-based array\n",
    "k_max = class_accuracy.index[0] + 1\n",
    "accuracy_max = class_accuracy[k_max-1]\n",
    "\n",
    "print(k_max, round(accuracy_max,2))"
   ]
  },
  {
   "cell_type": "markdown",
   "metadata": {},
   "source": [
    "5) и 6) Произведите масштабирование признаков с помощью функции sklearn.preprocessing.scale. Снова найдите оптимальное k на кросс-валидации. Какое значение k получилось оптимальным после приведения признаков к одному масштабу? Приведите ответы на вопросы 3 и 4. Помогло ли масштабирование признаков?"
   ]
  },
  {
   "cell_type": "code",
   "execution_count": 97,
   "metadata": {},
   "outputs": [
    {
     "name": "stdout",
     "output_type": "stream",
     "text": [
      "29 0.98\n"
     ]
    }
   ],
   "source": [
    "X = sk.preprocessing.scale(X)\n",
    "\n",
    "scores = []\n",
    "\n",
    "#пробуем разное колличество соседей\n",
    "for k in range(1,51):\n",
    "    model = sk.neighbors.KNeighborsClassifier(n_neighbors = k)\n",
    "    #now_score - массив (array[...]) размером колличесвта блоков кросс-валидации\n",
    "    now_score = cross_val_score(model, X, Y, cv = cross_val_fold, scoring = 'accuracy')\n",
    "    scores.append(now_score)\n",
    "\n",
    "#делаем dataframe из оценок для кросс-валидации\n",
    "cross_val_data = pd.DataFrame(scores) #делаем dataframe из оценок для кросс-валидации\n",
    "\n",
    "#ascending - восходящая сортировка; axis=1 - среднее в строке\n",
    "class_accuracy = cross_val_data.mean(axis=1).sort_values(ascending = False)\n",
    "\n",
    "#index - массив индексов, он не от 0 до 49 поскольку произвели sort_values по accuracy, + 1 из-за 0-based array\n",
    "k_max = class_accuracy.index[0] + 1\n",
    "accuracy_max = class_accuracy[k_max-1]\n",
    "\n",
    "print(k_max, round(accuracy_max,2))"
   ]
  },
  {
   "cell_type": "code",
   "execution_count": null,
   "metadata": {},
   "outputs": [],
   "source": []
  }
 ],
 "metadata": {
  "kernelspec": {
   "display_name": "Python 3",
   "language": "python",
   "name": "python3"
  },
  "language_info": {
   "codemirror_mode": {
    "name": "ipython",
    "version": 3
   },
   "file_extension": ".py",
   "mimetype": "text/x-python",
   "name": "python",
   "nbconvert_exporter": "python",
   "pygments_lexer": "ipython3",
   "version": "3.6.4"
  }
 },
 "nbformat": 4,
 "nbformat_minor": 2
}
