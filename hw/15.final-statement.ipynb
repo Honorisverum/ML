{
 "cells": [
  {
   "cell_type": "code",
   "execution_count": 174,
   "metadata": {},
   "outputs": [],
   "source": [
    "import pandas as pd\n",
    "import numpy as np\n",
    "import matplotlib.pyplot as plt\n",
    "\n",
    "from sklearn.model_selection import KFold, cross_val_score\n",
    "from sklearn.ensemble import GradientBoostingClassifier\n",
    "from sklearn.metrics import roc_auc_score\n",
    "\n",
    "from sklearn.linear_model import LogisticRegression\n",
    "from sklearn.preprocessing import StandardScaler\n",
    "\n",
    "import time\n",
    "import datetime"
   ]
  },
  {
   "cell_type": "code",
   "execution_count": 175,
   "metadata": {},
   "outputs": [],
   "source": [
    "training_data = pd.read_csv('csv_dataframes/features.csv',index_col = 'match_id')"
   ]
  },
  {
   "cell_type": "code",
   "execution_count": 176,
   "metadata": {},
   "outputs": [
    {
     "data": {
      "text/html": [
       "<div>\n",
       "<style scoped>\n",
       "    .dataframe tbody tr th:only-of-type {\n",
       "        vertical-align: middle;\n",
       "    }\n",
       "\n",
       "    .dataframe tbody tr th {\n",
       "        vertical-align: top;\n",
       "    }\n",
       "\n",
       "    .dataframe thead th {\n",
       "        text-align: right;\n",
       "    }\n",
       "</style>\n",
       "<table border=\"1\" class=\"dataframe\">\n",
       "  <thead>\n",
       "    <tr style=\"text-align: right;\">\n",
       "      <th></th>\n",
       "      <th>start_time</th>\n",
       "      <th>lobby_type</th>\n",
       "      <th>r1_hero</th>\n",
       "      <th>r1_level</th>\n",
       "      <th>r1_xp</th>\n",
       "      <th>r1_gold</th>\n",
       "      <th>r1_lh</th>\n",
       "      <th>r1_kills</th>\n",
       "      <th>r1_deaths</th>\n",
       "      <th>r1_items</th>\n",
       "      <th>...</th>\n",
       "      <th>dire_boots_count</th>\n",
       "      <th>dire_ward_observer_count</th>\n",
       "      <th>dire_ward_sentry_count</th>\n",
       "      <th>dire_first_ward_time</th>\n",
       "      <th>duration</th>\n",
       "      <th>radiant_win</th>\n",
       "      <th>tower_status_radiant</th>\n",
       "      <th>tower_status_dire</th>\n",
       "      <th>barracks_status_radiant</th>\n",
       "      <th>barracks_status_dire</th>\n",
       "    </tr>\n",
       "    <tr>\n",
       "      <th>match_id</th>\n",
       "      <th></th>\n",
       "      <th></th>\n",
       "      <th></th>\n",
       "      <th></th>\n",
       "      <th></th>\n",
       "      <th></th>\n",
       "      <th></th>\n",
       "      <th></th>\n",
       "      <th></th>\n",
       "      <th></th>\n",
       "      <th></th>\n",
       "      <th></th>\n",
       "      <th></th>\n",
       "      <th></th>\n",
       "      <th></th>\n",
       "      <th></th>\n",
       "      <th></th>\n",
       "      <th></th>\n",
       "      <th></th>\n",
       "      <th></th>\n",
       "      <th></th>\n",
       "    </tr>\n",
       "  </thead>\n",
       "  <tbody>\n",
       "    <tr>\n",
       "      <th>0</th>\n",
       "      <td>1430198770</td>\n",
       "      <td>7</td>\n",
       "      <td>11</td>\n",
       "      <td>5</td>\n",
       "      <td>2098</td>\n",
       "      <td>1489</td>\n",
       "      <td>20</td>\n",
       "      <td>0</td>\n",
       "      <td>0</td>\n",
       "      <td>7</td>\n",
       "      <td>...</td>\n",
       "      <td>4</td>\n",
       "      <td>2</td>\n",
       "      <td>2</td>\n",
       "      <td>-52.0</td>\n",
       "      <td>2874</td>\n",
       "      <td>1</td>\n",
       "      <td>1796</td>\n",
       "      <td>0</td>\n",
       "      <td>51</td>\n",
       "      <td>0</td>\n",
       "    </tr>\n",
       "    <tr>\n",
       "      <th>1</th>\n",
       "      <td>1430220345</td>\n",
       "      <td>0</td>\n",
       "      <td>42</td>\n",
       "      <td>4</td>\n",
       "      <td>1188</td>\n",
       "      <td>1033</td>\n",
       "      <td>9</td>\n",
       "      <td>0</td>\n",
       "      <td>1</td>\n",
       "      <td>12</td>\n",
       "      <td>...</td>\n",
       "      <td>4</td>\n",
       "      <td>3</td>\n",
       "      <td>1</td>\n",
       "      <td>-5.0</td>\n",
       "      <td>2463</td>\n",
       "      <td>1</td>\n",
       "      <td>1974</td>\n",
       "      <td>0</td>\n",
       "      <td>63</td>\n",
       "      <td>1</td>\n",
       "    </tr>\n",
       "    <tr>\n",
       "      <th>2</th>\n",
       "      <td>1430227081</td>\n",
       "      <td>7</td>\n",
       "      <td>33</td>\n",
       "      <td>4</td>\n",
       "      <td>1319</td>\n",
       "      <td>1270</td>\n",
       "      <td>22</td>\n",
       "      <td>0</td>\n",
       "      <td>0</td>\n",
       "      <td>12</td>\n",
       "      <td>...</td>\n",
       "      <td>4</td>\n",
       "      <td>3</td>\n",
       "      <td>1</td>\n",
       "      <td>13.0</td>\n",
       "      <td>2130</td>\n",
       "      <td>0</td>\n",
       "      <td>0</td>\n",
       "      <td>1830</td>\n",
       "      <td>0</td>\n",
       "      <td>63</td>\n",
       "    </tr>\n",
       "    <tr>\n",
       "      <th>3</th>\n",
       "      <td>1430263531</td>\n",
       "      <td>1</td>\n",
       "      <td>29</td>\n",
       "      <td>4</td>\n",
       "      <td>1779</td>\n",
       "      <td>1056</td>\n",
       "      <td>14</td>\n",
       "      <td>0</td>\n",
       "      <td>0</td>\n",
       "      <td>5</td>\n",
       "      <td>...</td>\n",
       "      <td>4</td>\n",
       "      <td>2</td>\n",
       "      <td>0</td>\n",
       "      <td>27.0</td>\n",
       "      <td>1459</td>\n",
       "      <td>0</td>\n",
       "      <td>1920</td>\n",
       "      <td>2047</td>\n",
       "      <td>50</td>\n",
       "      <td>63</td>\n",
       "    </tr>\n",
       "    <tr>\n",
       "      <th>4</th>\n",
       "      <td>1430282290</td>\n",
       "      <td>7</td>\n",
       "      <td>13</td>\n",
       "      <td>4</td>\n",
       "      <td>1431</td>\n",
       "      <td>1090</td>\n",
       "      <td>8</td>\n",
       "      <td>1</td>\n",
       "      <td>0</td>\n",
       "      <td>8</td>\n",
       "      <td>...</td>\n",
       "      <td>3</td>\n",
       "      <td>3</td>\n",
       "      <td>0</td>\n",
       "      <td>-16.0</td>\n",
       "      <td>2449</td>\n",
       "      <td>0</td>\n",
       "      <td>4</td>\n",
       "      <td>1974</td>\n",
       "      <td>3</td>\n",
       "      <td>63</td>\n",
       "    </tr>\n",
       "    <tr>\n",
       "      <th>5</th>\n",
       "      <td>1430284186</td>\n",
       "      <td>1</td>\n",
       "      <td>11</td>\n",
       "      <td>5</td>\n",
       "      <td>1961</td>\n",
       "      <td>1461</td>\n",
       "      <td>19</td>\n",
       "      <td>0</td>\n",
       "      <td>1</td>\n",
       "      <td>6</td>\n",
       "      <td>...</td>\n",
       "      <td>4</td>\n",
       "      <td>4</td>\n",
       "      <td>0</td>\n",
       "      <td>-43.0</td>\n",
       "      <td>1453</td>\n",
       "      <td>0</td>\n",
       "      <td>512</td>\n",
       "      <td>2038</td>\n",
       "      <td>0</td>\n",
       "      <td>63</td>\n",
       "    </tr>\n",
       "    <tr>\n",
       "      <th>8</th>\n",
       "      <td>1430293701</td>\n",
       "      <td>1</td>\n",
       "      <td>8</td>\n",
       "      <td>3</td>\n",
       "      <td>967</td>\n",
       "      <td>1136</td>\n",
       "      <td>7</td>\n",
       "      <td>1</td>\n",
       "      <td>0</td>\n",
       "      <td>8</td>\n",
       "      <td>...</td>\n",
       "      <td>6</td>\n",
       "      <td>3</td>\n",
       "      <td>0</td>\n",
       "      <td>10.0</td>\n",
       "      <td>1968</td>\n",
       "      <td>0</td>\n",
       "      <td>1536</td>\n",
       "      <td>1983</td>\n",
       "      <td>12</td>\n",
       "      <td>63</td>\n",
       "    </tr>\n",
       "    <tr>\n",
       "      <th>9</th>\n",
       "      <td>1430299335</td>\n",
       "      <td>7</td>\n",
       "      <td>35</td>\n",
       "      <td>5</td>\n",
       "      <td>2117</td>\n",
       "      <td>1252</td>\n",
       "      <td>16</td>\n",
       "      <td>0</td>\n",
       "      <td>0</td>\n",
       "      <td>6</td>\n",
       "      <td>...</td>\n",
       "      <td>3</td>\n",
       "      <td>4</td>\n",
       "      <td>0</td>\n",
       "      <td>-15.0</td>\n",
       "      <td>4079</td>\n",
       "      <td>1</td>\n",
       "      <td>1540</td>\n",
       "      <td>0</td>\n",
       "      <td>63</td>\n",
       "      <td>0</td>\n",
       "    </tr>\n",
       "    <tr>\n",
       "      <th>11</th>\n",
       "      <td>1430308974</td>\n",
       "      <td>1</td>\n",
       "      <td>17</td>\n",
       "      <td>5</td>\n",
       "      <td>1527</td>\n",
       "      <td>906</td>\n",
       "      <td>10</td>\n",
       "      <td>0</td>\n",
       "      <td>1</td>\n",
       "      <td>7</td>\n",
       "      <td>...</td>\n",
       "      <td>3</td>\n",
       "      <td>4</td>\n",
       "      <td>0</td>\n",
       "      <td>26.0</td>\n",
       "      <td>3071</td>\n",
       "      <td>0</td>\n",
       "      <td>0</td>\n",
       "      <td>1572</td>\n",
       "      <td>0</td>\n",
       "      <td>63</td>\n",
       "    </tr>\n",
       "    <tr>\n",
       "      <th>12</th>\n",
       "      <td>1430316105</td>\n",
       "      <td>7</td>\n",
       "      <td>15</td>\n",
       "      <td>5</td>\n",
       "      <td>1651</td>\n",
       "      <td>1060</td>\n",
       "      <td>14</td>\n",
       "      <td>0</td>\n",
       "      <td>1</td>\n",
       "      <td>10</td>\n",
       "      <td>...</td>\n",
       "      <td>3</td>\n",
       "      <td>2</td>\n",
       "      <td>0</td>\n",
       "      <td>16.0</td>\n",
       "      <td>2384</td>\n",
       "      <td>0</td>\n",
       "      <td>0</td>\n",
       "      <td>2038</td>\n",
       "      <td>0</td>\n",
       "      <td>63</td>\n",
       "    </tr>\n",
       "  </tbody>\n",
       "</table>\n",
       "<p>10 rows × 108 columns</p>\n",
       "</div>"
      ],
      "text/plain": [
       "          start_time  lobby_type  r1_hero  r1_level  r1_xp  r1_gold  r1_lh  \\\n",
       "match_id                                                                     \n",
       "0         1430198770           7       11         5   2098     1489     20   \n",
       "1         1430220345           0       42         4   1188     1033      9   \n",
       "2         1430227081           7       33         4   1319     1270     22   \n",
       "3         1430263531           1       29         4   1779     1056     14   \n",
       "4         1430282290           7       13         4   1431     1090      8   \n",
       "5         1430284186           1       11         5   1961     1461     19   \n",
       "8         1430293701           1        8         3    967     1136      7   \n",
       "9         1430299335           7       35         5   2117     1252     16   \n",
       "11        1430308974           1       17         5   1527      906     10   \n",
       "12        1430316105           7       15         5   1651     1060     14   \n",
       "\n",
       "          r1_kills  r1_deaths  r1_items          ...           \\\n",
       "match_id                                         ...            \n",
       "0                0          0         7          ...            \n",
       "1                0          1        12          ...            \n",
       "2                0          0        12          ...            \n",
       "3                0          0         5          ...            \n",
       "4                1          0         8          ...            \n",
       "5                0          1         6          ...            \n",
       "8                1          0         8          ...            \n",
       "9                0          0         6          ...            \n",
       "11               0          1         7          ...            \n",
       "12               0          1        10          ...            \n",
       "\n",
       "          dire_boots_count  dire_ward_observer_count  dire_ward_sentry_count  \\\n",
       "match_id                                                                       \n",
       "0                        4                         2                       2   \n",
       "1                        4                         3                       1   \n",
       "2                        4                         3                       1   \n",
       "3                        4                         2                       0   \n",
       "4                        3                         3                       0   \n",
       "5                        4                         4                       0   \n",
       "8                        6                         3                       0   \n",
       "9                        3                         4                       0   \n",
       "11                       3                         4                       0   \n",
       "12                       3                         2                       0   \n",
       "\n",
       "          dire_first_ward_time  duration  radiant_win  tower_status_radiant  \\\n",
       "match_id                                                                      \n",
       "0                        -52.0      2874            1                  1796   \n",
       "1                         -5.0      2463            1                  1974   \n",
       "2                         13.0      2130            0                     0   \n",
       "3                         27.0      1459            0                  1920   \n",
       "4                        -16.0      2449            0                     4   \n",
       "5                        -43.0      1453            0                   512   \n",
       "8                         10.0      1968            0                  1536   \n",
       "9                        -15.0      4079            1                  1540   \n",
       "11                        26.0      3071            0                     0   \n",
       "12                        16.0      2384            0                     0   \n",
       "\n",
       "          tower_status_dire  barracks_status_radiant  barracks_status_dire  \n",
       "match_id                                                                    \n",
       "0                         0                       51                     0  \n",
       "1                         0                       63                     1  \n",
       "2                      1830                        0                    63  \n",
       "3                      2047                       50                    63  \n",
       "4                      1974                        3                    63  \n",
       "5                      2038                        0                    63  \n",
       "8                      1983                       12                    63  \n",
       "9                         0                       63                     0  \n",
       "11                     1572                        0                    63  \n",
       "12                     2038                        0                    63  \n",
       "\n",
       "[10 rows x 108 columns]"
      ]
     },
     "execution_count": 176,
     "metadata": {},
     "output_type": "execute_result"
    }
   ],
   "source": [
    "training_data.head(10)"
   ]
  },
  {
   "cell_type": "markdown",
   "metadata": {},
   "source": [
    "#### Описание признаков в таблице\n",
    "\n",
    "- `match_id`: идентификатор матча в наборе данных\n",
    "- `start_time`: время начала матча (unixtime)\n",
    "- `lobby_type`: тип комнаты, в которой собираются игроки (расшифровка в `dictionaries/lobbies.csv`)\n",
    "- Наборы признаков для каждого игрока (игроки команды Radiant — префикс `rN`, Dire — `dN`):\n",
    "    - `r1_hero`: герой игрока (расшифровка в dictionaries/heroes.csv)\n",
    "    - `r1_level`: максимальный достигнутый уровень героя (за первые 5 игровых минут)\n",
    "    - `r1_xp`: максимальный полученный опыт\n",
    "    - `r1_gold`: достигнутая ценность героя\n",
    "    - `r1_lh`: число убитых юнитов\n",
    "    - `r1_kills`: число убитых игроков\n",
    "    - `r1_deaths`: число смертей героя\n",
    "    - `r1_items`: число купленных предметов\n",
    "- Признаки события \"первая кровь\" (first blood). Если событие \"первая кровь\" не успело произойти за первые 5 минут, то признаки принимают пропущенное значение\n",
    "    - `first_blood_time`: игровое время первой крови\n",
    "    - `first_blood_team`: команда, совершившая первую кровь (0 — Radiant, 1 — Dire)\n",
    "    - `first_blood_player1`: игрок, причастный к событию\n",
    "    - `first_blood_player2`: второй игрок, причастный к событию\n",
    "- Признаки для каждой команды (префиксы `radiant_` и `dire_`)\n",
    "    - `radiant_bottle_time`: время первого приобретения командой предмета \"bottle\"\n",
    "    - `radiant_courier_time`: время приобретения предмета \"courier\" \n",
    "    - `radiant_flying_courier_time`: время приобретения предмета \"flying_courier\" \n",
    "    - `radiant_tpscroll_count`: число предметов \"tpscroll\" за первые 5 минут\n",
    "    - `radiant_boots_count`: число предметов \"boots\"\n",
    "    - `radiant_ward_observer_count`: число предметов \"ward_observer\"\n",
    "    - `radiant_ward_sentry_count`: число предметов \"ward_sentry\"\n",
    "    - `radiant_first_ward_time`: время установки командой первого \"наблюдателя\", т.е. предмета, который позволяет видеть часть игрового поля\n",
    "- Итог матча (данные поля отсутствуют в тестовой выборке, поскольку содержат информацию, выходящую за пределы первых 5 минут матча)\n",
    "    - `duration`: длительность\n",
    "    - `radiant_win`: 1, если победила команда Radiant, 0 — иначе\n",
    "    - Состояние башен и барраков к концу матча (см. описание полей набора данных)\n",
    "        - `tower_status_radiant`\n",
    "        - `tower_status_dire`\n",
    "        - `barracks_status_radiant`\n",
    "        - `barracks_status_dire`"
   ]
  },
  {
   "cell_type": "markdown",
   "metadata": {},
   "source": [
    "# Подход 1: градиентный бустинг \"в лоб\""
   ]
  },
  {
   "cell_type": "markdown",
   "metadata": {},
   "source": [
    "1) Считайте таблицу с признаками из файла features.csv с помощью кода, приведенного выше. Удалите признаки, связанные с итогами матча (они помечены в описании данных как отсутствующие в тестовой выборке)."
   ]
  },
  {
   "cell_type": "code",
   "execution_count": 177,
   "metadata": {},
   "outputs": [],
   "source": [
    "#axis=1 - columns, inplace - do operation in place, no need to \"data = data.drop(...)\"\n",
    "training_data.drop(['duration', 'tower_status_radiant', 'tower_status_dire', 'barracks_status_radiant', \n",
    "                    'barracks_status_dire',], axis=1, inplace=True)\n",
    "#dont drop 'radiant_win' since it are response's"
   ]
  },
  {
   "cell_type": "markdown",
   "metadata": {},
   "source": [
    "2) Проверьте выборку на наличие пропусков с помощью функции count(), которая для каждого столбца показывает число заполненных значений. Много ли пропусков в данных? Запишите названия признаков, имеющих пропуски, и попробуйте для любых двух из них дать обоснование, почему их значения могут быть пропущены."
   ]
  },
  {
   "cell_type": "code",
   "execution_count": 178,
   "metadata": {},
   "outputs": [
    {
     "data": {
      "text/plain": [
       "first_blood_time               0.201100\n",
       "first_blood_team               0.201100\n",
       "first_blood_player1            0.201100\n",
       "first_blood_player2            0.452402\n",
       "radiant_bottle_time            0.161380\n",
       "radiant_courier_time           0.007117\n",
       "radiant_flying_courier_time    0.282619\n",
       "radiant_first_ward_time        0.018883\n",
       "dire_bottle_time               0.166029\n",
       "dire_courier_time              0.006953\n",
       "dire_flying_courier_time       0.268415\n",
       "dire_first_ward_time           0.018780\n",
       "dtype: float64"
      ]
     },
     "execution_count": 178,
     "metadata": {},
     "output_type": "execute_result"
    }
   ],
   "source": [
    "count_series = training_data.count()\n",
    "\n",
    "#shape of training data\n",
    "shape = training_data.shape\n",
    "\n",
    "#series with proportion of NaN's for different from zero columns\n",
    "(shape[0] - training_data.count())[count_series != shape[0] ] / shape[0]"
   ]
  },
  {
   "cell_type": "markdown",
   "metadata": {},
   "source": [
    "$\\bullet$ Событие \"первая кровь\" не успело произойти за первые 5 минут для 0.201100 части матчей - поэтому и пропуски в 'first_blood_time' , 'first_blood_team' , 'first_blood_player1'\n",
    "\n",
    "$\\bullet$ 'first_blood_player2' больше пропусков поскольку не всегда второй игрок причастен к \"первой крови\", ее можно совершить и в одиночку"
   ]
  },
  {
   "cell_type": "markdown",
   "metadata": {},
   "source": [
    "3) Замените пропуски на нули с помощью функции fillna(). На самом деле этот способ является предпочтительным для логистической регрессии, поскольку он позволит пропущенному значению не вносить никакого вклада в предсказание. Для деревьев часто лучшим вариантом оказывается замена пропуска на очень большое или очень маленькое значение — в этом случае при построении разбиения вершины можно будет отправить объекты с пропусками в отдельную ветвь дерева. Также есть и другие подходы — например, замена пропуска на среднее значение признака. Мы не требуем этого в задании, но при желании попробуйте разные подходы к обработке пропусков и сравните их между собой."
   ]
  },
  {
   "cell_type": "code",
   "execution_count": 179,
   "metadata": {},
   "outputs": [],
   "source": [
    "#inplace - do operation in place, no need to \"data = data.drop(...)\"\n",
    "training_data.fillna(0,inplace = True)"
   ]
  },
  {
   "cell_type": "markdown",
   "metadata": {},
   "source": [
    "4) Какой столбец содержит целевую переменную? Запишите его название."
   ]
  },
  {
   "cell_type": "code",
   "execution_count": 180,
   "metadata": {},
   "outputs": [],
   "source": [
    "X_train = training_data\n",
    "Y_train = training_data['radiant_win']\n",
    "X_train.drop(['radiant_win'],axis = 1,inplace = True)"
   ]
  },
  {
   "cell_type": "markdown",
   "metadata": {},
   "source": [
    "5) Забудем, что в выборке есть категориальные признаки, и попробуем обучить градиентный бустинг над деревьями на имеющейся матрице \"объекты-признаки\". Зафиксируйте генератор разбиений для кросс-валидации по 5 блокам (KFold), не забудьте перемешать при этом выборку (shuffle=True), поскольку данные в таблице отсортированы по времени, и без перемешивания можно столкнуться с нежелательными эффектами при оценивании качества. Оцените качество градиентного бустинга (GradientBoostingClassifier) с помощью данной кросс-валидации, попробуйте при этом разное количество деревьев (как минимум протестируйте следующие значения для количества деревьев: 10, 20, 30). Долго ли настраивались классификаторы? Достигнут ли оптимум на испытанных значениях параметра n_estimators, или же качество, скорее всего, продолжит расти при дальнейшем его увеличении?"
   ]
  },
  {
   "cell_type": "code",
   "execution_count": 182,
   "metadata": {},
   "outputs": [
    {
     "name": "stdout",
     "output_type": "stream",
     "text": [
      "n_estimators= 10   Time: 0:00:35.272584\n",
      "scores: [0.66418204 0.67025109 0.66738257 0.66435517 0.66323569]   mean score: 0.6658813126053801 \n",
      "\n",
      "n_estimators= 20   Time: 0:01:01.326870\n",
      "scores: [0.68240163 0.68382205 0.68024823 0.68171616 0.68166956]   mean score: 0.681971528338126 \n",
      "\n",
      "n_estimators= 30   Time: 0:01:35.470159\n",
      "scores: [0.69060148 0.68861196 0.68460829 0.69388287 0.68928002]   mean score: 0.6893969231266078 \n",
      "\n",
      "n_estimators= 40   Time: 0:02:08.214116\n",
      "scores: [0.69474958 0.69073589 0.69632918 0.69486438 0.69539654]   mean score: 0.6944151156859403 \n",
      "\n",
      "n_estimators= 50   Time: 0:02:52.543313\n",
      "scores: [0.7014017  0.69700128 0.69271871 0.69423489 0.70014497]   mean score: 0.6971003098255883 \n",
      "\n"
     ]
    }
   ],
   "source": [
    "cross_val = KFold(n_splits = 5, shuffle=True)\n",
    "\n",
    "scores = list()\n",
    "\n",
    "for k in (10,20,30,40,50):\n",
    "    start_time = datetime.datetime.now()\n",
    "\n",
    "    #loss --- loss function to be optimized. ‘deviance’ refers to deviance \n",
    "    #(= logistic regression) for classification with probabilistic outputs. \n",
    "    #For loss ‘exponential’ gradient boosting recovers the AdaBoost algorithm.\n",
    "    \n",
    "    #learning_rate --- learning rate shrinks the contribution of each tree by learning_rate.\n",
    "    #There is a trade-off between learning_rate and n_estimators.\n",
    "    \n",
    "    #max_depth --- maximum depth of the individual regression estimators. \n",
    "    #The maximum depth limits the number of nodes in the tree. \n",
    "    #Tune this parameter for best performance; the best value depends\n",
    "    #on the interaction of the input variables.\n",
    "    \n",
    "    model = GradientBoostingClassifier(n_estimators=k, learning_rate=0.1, max_depth=3, loss='deviance')\n",
    "    scores.append(cross_val_score(model, X_train, Y_train, cv=cross_val, scoring='roc_auc'))\n",
    "    \n",
    "    print ('n_estimators= ' + str(k) + '   Time: ' + str(datetime.datetime.now() - start_time))\n",
    "    print ('scores: ' + str(scores[-1]) + '   mean score: ' + str(np.mean(scores[-1])),'\\n')"
   ]
  },
  {
   "cell_type": "code",
   "execution_count": 183,
   "metadata": {},
   "outputs": [
    {
     "data": {
      "image/png": "[encoded data removed]",
      "text/plain": [
       "<matplotlib.figure.Figure at 0x1a1f6d6630>"
      ]
     },
     "metadata": {},
     "output_type": "display_data"
    }
   ],
   "source": [
    "plt.plot([i for i in [10,20,30,40,50]],np.mean(scores,axis = 1))\n",
    "plt.show()"
   ]
  },
  {
   "cell_type": "code",
   "execution_count": null,
   "metadata": {},
   "outputs": [],
   "source": [
    "#another parametrs\n",
    "\"\"\"\n",
    "learning_rate=0.1, max_depth=3, loss='deviance' #default one's\n",
    "#10 0.6650036791158828\n",
    "#20 0.6816892391304116\n",
    "#30 0.6892487017108454\n",
    "\n",
    "learning_rate=0.1, max_depth=3, loss='exponential'\n",
    "#10 0.6640383432748062\n",
    "#20 0.6823159091238377\n",
    "#30 0.6899110411186123\n",
    "\n",
    "learning_rate=0.1, max_depth=5, loss='deviance'\n",
    "#10 0.6795005997188351\n",
    "#20 0.6919014871323015\n",
    "#30 0.6989661751108933\n",
    "\n",
    "learning_rate=0.3, max_depth=3, loss='deviance'\n",
    "#10 0.6840534651256605\n",
    "#20 0.696222071956785\n",
    "#30 0.7011992731573018\n",
    "\"\"\""
   ]
  },
  {
   "cell_type": "code",
   "execution_count": 184,
   "metadata": {},
   "outputs": [
    {
     "name": "stdout",
     "output_type": "stream",
     "text": [
      "n_estimators= 100   Time: 0:12:52.861502\n",
      "scores: [0.71515807 0.70875846 0.71217856 0.71345207 0.70461807]   mean score: 0.7108330470836626 \n",
      "\n"
     ]
    }
   ],
   "source": [
    "#best\n",
    "\n",
    "k=100\n",
    "\n",
    "cross_val = KFold(n_splits = 5, shuffle=True)\n",
    "scores = list()\n",
    "\n",
    "start_time = datetime.datetime.now()\n",
    "model = GradientBoostingClassifier(n_estimators=k, learning_rate=0.3, max_depth=5, loss='exponential')\n",
    "scores.append(cross_val_score(model, X_train, Y_train, cv=cross_val, scoring='roc_auc'))\n",
    "    \n",
    "print ('n_estimators= ' + str(k) + '   Time: ' + str(datetime.datetime.now() - start_time))\n",
    "print ('scores: ' + str(scores[-1]) + '   mean score: ' + str(np.mean(scores[-1])),'\\n')"
   ]
  },
  {
   "cell_type": "markdown",
   "metadata": {},
   "source": [
    "# Подход 2: логистическая регрессия"
   ]
  },
  {
   "cell_type": "markdown",
   "metadata": {},
   "source": [
    "Важно: не забывайте, что линейные алгоритмы чувствительны к масштабу признаков! Может пригодиться sklearn.preprocessing.StandartScaler."
   ]
  },
  {
   "cell_type": "code",
   "execution_count": 185,
   "metadata": {},
   "outputs": [],
   "source": [
    "X_train = StandardScaler().fit_transform(X_train)"
   ]
  },
  {
   "cell_type": "markdown",
   "metadata": {},
   "source": [
    "1) Оцените качество логистической регрессии (sklearn.linear_model.LogisticRegression с L2-регуляризацией) с помощью кросс-валидации по той же схеме, которая использовалась для градиентного бустинга. Подберите при этом лучший параметр регуляризации (C). Какое наилучшее качество у вас получилось? Как оно соотносится с качеством градиентного бустинга? Чем вы можете объяснить эту разницу? Быстрее ли работает логистическая регрессия по сравнению с градиентным бустингом?"
   ]
  },
  {
   "cell_type": "code",
   "execution_count": 187,
   "metadata": {},
   "outputs": [
    {
     "name": "stdout",
     "output_type": "stream",
     "text": [
      "C= 0.001   Time: 0:00:12.672070\n",
      "scores: [0.7092448  0.7155247  0.72108682 0.71621884 0.71934961]   mean score: 0.7162849555126356 \n",
      "\n",
      "C= 0.01   Time: 0:00:15.952121\n",
      "scores: [0.7166394  0.71350158 0.71416978 0.7211218  0.71608093]   mean score: 0.7163026990021559 \n",
      "\n",
      "C= 0.1   Time: 0:00:17.968950\n",
      "scores: [0.71550982 0.7207094  0.71267179 0.71702808 0.71580376]   mean score: 0.7163445687790202 \n",
      "\n",
      "C= 1   Time: 0:00:15.347061\n",
      "scores: [0.71110518 0.71926261 0.71960398 0.71407571 0.71688426]   mean score: 0.7161863471590488 \n",
      "\n",
      "C= 10   Time: 0:00:16.283268\n",
      "scores: [0.72121151 0.71211243 0.71940759 0.71478795 0.714952  ]   mean score: 0.7164942964274748 \n",
      "\n",
      "C= 100   Time: 0:00:17.603911\n",
      "scores: [0.71572272 0.71902883 0.71391714 0.71484598 0.71881188]   mean score: 0.7164653097501008 \n",
      "\n",
      "C= 1000   Time: 0:00:16.754403\n",
      "scores: [0.7118205  0.71601598 0.71358171 0.72027304 0.71956599]   mean score: 0.7162514447663058 \n",
      "\n",
      "C= 10000   Time: 0:00:15.945845\n",
      "scores: [0.71679009 0.71399467 0.71437418 0.72282089 0.71451075]   mean score: 0.7164981160496555 \n",
      "\n",
      "C= 100000   Time: 0:00:16.485742\n",
      "scores: [0.7192375  0.71826428 0.71255239 0.71871746 0.7125567 ]   mean score: 0.7162656669251447 \n",
      "\n"
     ]
    }
   ],
   "source": [
    "cross_val = KFold(n_splits = 5, shuffle=True)\n",
    "\n",
    "scores = list()\n",
    "\n",
    "for c in [10 ** i for i in range(-3,6)]:\n",
    "    start_time = datetime.datetime.now()\n",
    "    \n",
    "    #tol - Tolerance for stopping criteria.\n",
    "    model = LogisticRegression(C = c, tol=1e-4)\n",
    "    scores.append(cross_val_score(model, X_train, Y_train, cv=cross_val, scoring='roc_auc'))\n",
    "    \n",
    "    print ('C= ' + str(c) + '   Time: ' + str(datetime.datetime.now() - start_time))\n",
    "    print ('scores: ' + str(scores[-1]) + '   mean score: ' + str(np.mean(scores[-1])),'\\n')"
   ]
  },
  {
   "cell_type": "code",
   "execution_count": 188,
   "metadata": {},
   "outputs": [
    {
     "data": {
      "image/png": "[encoded data removed]",
      "text/plain": [
       "<matplotlib.figure.Figure at 0x1a1a60d128>"
      ]
     },
     "metadata": {},
     "output_type": "display_data"
    }
   ],
   "source": [
    "plt.plot([i for i in range(-3, 6)],np.mean(scores,axis = 1))\n",
    "plt.show()"
   ]
  },
  {
   "cell_type": "markdown",
   "metadata": {},
   "source": [
    "2) Среди признаков в выборке есть категориальные, которые мы использовали как числовые, что вряд ли является хорошей идеей. Категориальных признаков в этой задаче одиннадцать: lobby_type и r1_hero, r2_hero, ..., r5_hero, d1_hero, d2_hero, ..., d5_hero. Уберите их из выборки, и проведите кросс-валидацию для логистической регрессии на новой выборке с подбором лучшего параметра регуляризации. Изменилось ли качество? Чем вы можете это объяснить?"
   ]
  },
  {
   "cell_type": "code",
   "execution_count": 189,
   "metadata": {},
   "outputs": [],
   "source": [
    "training_data.drop(['lobby_type','r1_hero','r2_hero','r3_hero','r4_hero','r5_hero','d1_hero','d2_hero',\n",
    "           'd3_hero','d4_hero','d5_hero',],axis = 1, inplace = True)\n",
    "\n",
    "X_train = StandardScaler().fit_transform(training_data)"
   ]
  },
  {
   "cell_type": "code",
   "execution_count": 190,
   "metadata": {},
   "outputs": [
    {
     "name": "stdout",
     "output_type": "stream",
     "text": [
      "C= 0.001   Time: 0:00:10.144950\n",
      "scores: [0.71899307 0.72245481 0.71029692 0.71302734 0.71726181]   mean score: 0.7164067909276663 \n",
      "\n",
      "C= 0.01   Time: 0:00:12.626882\n",
      "scores: [0.72335031 0.71829154 0.71574387 0.70972587 0.71561316]   mean score: 0.7165449509049279 \n",
      "\n",
      "C= 0.1   Time: 0:00:13.038828\n",
      "scores: [0.71987247 0.71799445 0.71115562 0.71606463 0.71728577]   mean score: 0.7164745885145789 \n",
      "\n",
      "C= 1   Time: 0:00:13.328146\n",
      "scores: [0.71797049 0.71692647 0.71603531 0.71386144 0.71742595]   mean score: 0.716443931262095 \n",
      "\n",
      "C= 10   Time: 0:00:13.081935\n",
      "scores: [0.71471492 0.71543844 0.71695968 0.72030061 0.71417641]   mean score: 0.7163180122146876 \n",
      "\n",
      "C= 100   Time: 0:00:13.136307\n",
      "scores: [0.72031929 0.71341785 0.72289276 0.71216562 0.71237334]   mean score: 0.716233772535525 \n",
      "\n",
      "C= 1000   Time: 0:00:12.490557\n",
      "scores: [0.71523912 0.71961866 0.71424909 0.71425524 0.71812952]   mean score: 0.7162983257127467 \n",
      "\n",
      "C= 10000   Time: 0:00:13.201868\n",
      "scores: [0.71702474 0.71862902 0.71294056 0.71752204 0.7154928 ]   mean score: 0.7163218318631905 \n",
      "\n",
      "C= 100000   Time: 0:00:12.987919\n",
      "scores: [0.72230776 0.71869178 0.71508675 0.7137017  0.7121815 ]   mean score: 0.7163938993808372 \n",
      "\n"
     ]
    }
   ],
   "source": [
    "cross_val = KFold(n_splits = 5, shuffle=True)\n",
    "\n",
    "scores = list()\n",
    "\n",
    "for c in [10 ** i for i in range(-3, 6)]:\n",
    "    start_time = datetime.datetime.now()\n",
    "    \n",
    "    #tol - Tolerance for stopping criteria.\n",
    "    model = LogisticRegression(C = c, tol=1e-4)\n",
    "    scores.append(cross_val_score(model, X_train, Y_train, cv=cross_val, scoring='roc_auc'))\n",
    "    \n",
    "    print ('C= ' + str(c) + '   Time: ' + str(datetime.datetime.now() - start_time))\n",
    "    print ('scores: ' + str(scores[-1]) + '   mean score: ' + str(np.mean(scores[-1])),'\\n')"
   ]
  },
  {
   "cell_type": "code",
   "execution_count": 191,
   "metadata": {},
   "outputs": [
    {
     "data": {
      "image/png": "[encoded data removed]",
      "text/plain": [
       "<matplotlib.figure.Figure at 0x1a1a60d3c8>"
      ]
     },
     "metadata": {},
     "output_type": "display_data"
    }
   ],
   "source": [
    "plt.plot([i for i in range(-3, 6)],np.mean(scores,axis = 1))\n",
    "plt.show()"
   ]
  },
  {
   "cell_type": "markdown",
   "metadata": {},
   "source": [
    "3) На предыдущем шаге мы исключили из выборки признаки rM_hero и dM_hero, которые показывают, какие именно герои играли за каждую команду. Это важные признаки — герои имеют разные характеристики, и некоторые из них выигрывают чаще, чем другие. Выясните из данных, сколько различных идентификаторов героев существует в данной игре (вам может пригодиться фукнция unique или value_counts)."
   ]
  },
  {
   "cell_type": "code",
   "execution_count": 192,
   "metadata": {},
   "outputs": [],
   "source": [
    "#reload the data since we drop important columns\n",
    "training_data = pd.read_csv('csv_dataframes/features.csv',index_col='match_id')\n",
    "training_data.drop(['duration', \n",
    "         'tower_status_radiant', \n",
    "         'tower_status_dire', \n",
    "         'barracks_status_radiant', \n",
    "         'barracks_status_dire',\n",
    "         'radiant_win'\n",
    "        ], axis=1, inplace=True)\n",
    "\n",
    "training_data.fillna(0,inplace = True)"
   ]
  },
  {
   "cell_type": "code",
   "execution_count": 193,
   "metadata": {},
   "outputs": [
    {
     "data": {
      "text/plain": [
       "108"
      ]
     },
     "execution_count": 193,
     "metadata": {},
     "output_type": "execute_result"
    }
   ],
   "source": [
    "#np.unique - all unique elements in data frame\n",
    "unique_array = np.unique(training_data[['r1_hero','r2_hero','r3_hero','r4_hero','r5_hero',\n",
    "                                         'd1_hero','d2_hero','d3_hero','d4_hero','d5_hero']])\n",
    "\n",
    "len(unique_array)"
   ]
  },
  {
   "cell_type": "markdown",
   "metadata": {},
   "source": [
    "4) Воспользуемся подходом \"мешок слов\" для кодирования информации о героях. Пусть всего в игре имеет N различных героев. Сформируем N признаков, при этом i-й будет равен нулю, если i-й герой не участвовал в матче; единице, если i-й герой играл за команду Radiant; минус единице, если i-й герой играл за команду Dire. Ниже вы можете найти код, который выполняет данной преобразование. Добавьте полученные признаки к числовым, которые вы использовали во втором пункте данного этапа."
   ]
  },
  {
   "cell_type": "code",
   "execution_count": 194,
   "metadata": {},
   "outputs": [],
   "source": [
    "X_pick = np.zeros((training_data.shape[0], 112))\n",
    "\n",
    "#enumerate(list) = iterator like (1,list[0)),(2,list[1]),(3,list[2])\n",
    "#.at - Access a single value\n",
    "for i, match_id in enumerate(training_data.index):\n",
    "    for p in range(1,6):\n",
    "        X_pick[i, training_data.at[match_id, 'r{}_hero'.format(p)] -1] = 1\n",
    "        X_pick[i, training_data.at[match_id, 'd{}_hero'.format(p)] -1] = -1\n",
    "        \n",
    "training_data.drop(['lobby_type','r1_hero','r2_hero','r3_hero','r4_hero','r5_hero',\n",
    "           'd1_hero','d2_hero','d3_hero','d4_hero','d5_hero',],axis = 1, inplace = True)\n",
    "\n",
    "X_train = np.hstack((training_data.values, X_pick))\n",
    "\n",
    "X_train = StandardScaler().fit_transform(X_train)"
   ]
  },
  {
   "cell_type": "markdown",
   "metadata": {},
   "source": [
    "5) Проведите кросс-валидацию для логистической регрессии на новой выборке с подбором лучшего параметра регуляризации. Какое получилось качество? Улучшилось ли оно? Чем вы можете это объяснить?"
   ]
  },
  {
   "cell_type": "code",
   "execution_count": 195,
   "metadata": {},
   "outputs": [
    {
     "name": "stdout",
     "output_type": "stream",
     "text": [
      "C= 0.001   Time: 0:00:17.462968\n",
      "scores: [0.75693496 0.74929428 0.75369613 0.75066884 0.74780501]   mean score: 0.751679841563776 \n",
      "\n",
      "C= 0.01   Time: 0:00:23.360603\n",
      "scores: [0.75443117 0.74985551 0.75120159 0.75040153 0.75305109]   mean score: 0.7517881780893723 \n",
      "\n",
      "C= 0.1   Time: 0:00:24.643224\n",
      "scores: [0.75436655 0.746435   0.75451021 0.75190504 0.75248388]   mean score: 0.7519401348636244 \n",
      "\n",
      "C= 1   Time: 0:00:24.305757\n",
      "scores: [0.75539631 0.756278   0.75033883 0.75141528 0.74609468]   mean score: 0.7519046192611075 \n",
      "\n",
      "C= 10   Time: 0:00:25.122018\n",
      "scores: [0.74514791 0.7520571  0.75835727 0.75683192 0.7472889 ]   mean score: 0.7519366218134864 \n",
      "\n",
      "C= 100   Time: 0:00:25.711612\n",
      "scores: [0.75310115 0.75124083 0.75137861 0.74913899 0.75492949]   mean score: 0.7519578129061995 \n",
      "\n",
      "C= 1000   Time: 0:00:25.519726\n",
      "scores: [0.75666098 0.75287958 0.74663868 0.75315606 0.75022858]   mean score: 0.7519127761696893 \n",
      "\n",
      "C= 10000   Time: 0:00:26.423473\n",
      "scores: [0.76182068 0.75499867 0.74244884 0.74999601 0.74958747]   mean score: 0.7517703345241703 \n",
      "\n",
      "C= 100000   Time: 0:00:29.341223\n",
      "scores: [0.74831492 0.75214021 0.74885704 0.75189212 0.75816289]   mean score: 0.7518734368693887 \n",
      "\n"
     ]
    }
   ],
   "source": [
    "cross_val = KFold(n_splits = 5, shuffle=True)\n",
    "\n",
    "scores = list()\n",
    "\n",
    "for c in [10 ** i for i in range(-3, 6)]:\n",
    "    start_time = datetime.datetime.now()\n",
    "    \n",
    "    #tol - Tolerance for stopping criteria.\n",
    "    model = LogisticRegression(C = c, tol=1e-4)\n",
    "    scores.append(cross_val_score(model, X_train, Y_train, cv=cross_val, scoring='roc_auc'))\n",
    "    \n",
    "    print ('C= ' + str(c) + '   Time: ' + str(datetime.datetime.now() - start_time))\n",
    "    print ('scores: ' + str(scores[-1]) + '   mean score: ' + str(np.mean(scores[-1])),'\\n')"
   ]
  },
  {
   "cell_type": "code",
   "execution_count": 197,
   "metadata": {},
   "outputs": [
    {
     "data": {
      "image/png": "[encoded data removed]",
      "text/plain": [
       "<matplotlib.figure.Figure at 0x1a1d159e10>"
      ]
     },
     "metadata": {},
     "output_type": "display_data"
    }
   ],
   "source": [
    "plt.plot([i for i in range(-3, 6)],np.mean(scores,axis = 1))\n",
    "plt.show()"
   ]
  },
  {
   "cell_type": "markdown",
   "metadata": {},
   "source": [
    "6) Постройте предсказания вероятностей победы команды Radiant для тестовой выборки с помощью лучшей из изученных моделей (лучшей с точки зрения AUC-ROC на кросс-валидации). Убедитесь, что предсказанные вероятности адекватные — находятся на отрезке [0, 1], не совпадают между собой (т.е. что модель не получилась константной)."
   ]
  },
  {
   "cell_type": "code",
   "execution_count": 198,
   "metadata": {},
   "outputs": [],
   "source": [
    "##preparation for training_data\n",
    "\n",
    "training_data = pd.read_csv('csv_dataframes/features.csv',index_col='match_id')\n",
    "Y_train = training_data['radiant_win']\n",
    "training_data.drop(['duration', 'tower_status_radiant', 'tower_status_dire', 'barracks_status_radiant',\n",
    "                    'barracks_status_dire','radiant_win'], axis=1, inplace=True)\n",
    "\n",
    "training_data.fillna(0,inplace = True)\n",
    "\n",
    "X_pick_train = np.zeros((training_data.shape[0], 112))\n",
    "\n",
    "#enumerate(list) = iterator like (1,list[0)),(2,list[1]),(3,list[2])\n",
    "#.at - Access a single value\n",
    "for i, match_id in enumerate(training_data.index):\n",
    "    for p in range(1,6):\n",
    "        X_pick_train[i, training_data.at[match_id, 'r{}_hero'.format(p)] -1] = 1\n",
    "        X_pick_train[i, training_data.at[match_id, 'd{}_hero'.format(p)] -1] = -1\n",
    "        \n",
    "training_data.drop(['lobby_type','r1_hero','r2_hero','r3_hero','r4_hero','r5_hero',\n",
    "           'd1_hero','d2_hero','d3_hero','d4_hero','d5_hero',],axis = 1, inplace = True)\n",
    "\n",
    "X_train = np.hstack((training_data.values, X_pick_train))\n",
    "\n",
    "X_train = StandardScaler().fit_transform(X_train)"
   ]
  },
  {
   "cell_type": "code",
   "execution_count": 199,
   "metadata": {},
   "outputs": [],
   "source": [
    "##preparation for test_data\n",
    "\n",
    "test_data = pd.read_csv('csv_dataframes/features_test.csv',index_col = 'match_id')\n",
    "test_data.fillna(0,inplace = True)\n",
    "\n",
    "X_pick_test = np.zeros((test_data.shape[0], 112))\n",
    "\n",
    "#enumerate(list) = iterator like (1,list[0)),(2,list[1]),(3,list[2])\n",
    "#.at - Access a single value\n",
    "for i, match_id in enumerate(test_data.index):\n",
    "    for p in range(1,6):\n",
    "        X_pick_test[i, test_data.at[match_id, 'r{}_hero'.format(p)] -1] = 1\n",
    "        X_pick_test[i, test_data.at[match_id, 'd{}_hero'.format(p)] -1] = -1\n",
    "        \n",
    "test_data.drop(['lobby_type','r1_hero','r2_hero','r3_hero','r4_hero','r5_hero',\n",
    "           'd1_hero','d2_hero','d3_hero','d4_hero','d5_hero',],axis = 1, inplace = True)\n",
    "\n",
    "X_test = np.hstack((test_data.values, X_pick_test))\n",
    "\n",
    "X_test = StandardScaler().fit_transform(X_train)"
   ]
  },
  {
   "cell_type": "code",
   "execution_count": 200,
   "metadata": {},
   "outputs": [],
   "source": [
    "##fiting\n",
    "model = LogisticRegression(C=100)\n",
    "model.fit(X_train, Y_train)\n",
    "\n",
    "result = model.predict_proba(X_test)"
   ]
  },
  {
   "cell_type": "markdown",
   "metadata": {},
   "source": [
    "Какое минимальное и максимальное значение прогноза на тестовой выборке получилось у лучшего из алгоритмов?"
   ]
  },
  {
   "cell_type": "code",
   "execution_count": 201,
   "metadata": {},
   "outputs": [
    {
     "name": "stdout",
     "output_type": "stream",
     "text": [
      "max: 0.9987353438671027\n",
      "min: 0.0013200666813732913\n"
     ]
    }
   ],
   "source": [
    "result_for_radiant = [elem[1] for elem in result]\n",
    "print('max: ' + str(max(result_for_radiant)))\n",
    "print('min: ' + str(min(result_for_radiant)))"
   ]
  },
  {
   "cell_type": "code",
   "execution_count": null,
   "metadata": {},
   "outputs": [],
   "source": []
  }
 ],
 "metadata": {
  "kernelspec": {
   "display_name": "Python 3",
   "language": "python",
   "name": "python3"
  },
  "language_info": {
   "codemirror_mode": {
    "name": "ipython",
    "version": 3
   },
   "file_extension": ".py",
   "mimetype": "text/x-python",
   "name": "python",
   "nbconvert_exporter": "python",
   "pygments_lexer": "ipython3",
   "version": "3.6.4"
  }
 },
 "nbformat": 4,
 "nbformat_minor": 2
}
